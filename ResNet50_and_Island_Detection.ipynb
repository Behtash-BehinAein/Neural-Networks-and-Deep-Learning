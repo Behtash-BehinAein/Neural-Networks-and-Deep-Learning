{
  "nbformat": 4,
  "nbformat_minor": 0,
  "metadata": {
    "colab": {
      "name": "ResNet50_and_Island-Detection.ipynb",
      "version": "0.3.2",
      "provenance": [],
      "collapsed_sections": []
    },
    "kernelspec": {
      "name": "python3",
      "display_name": "Python 3"
    },
    "accelerator": "GPU"
  },
  "cells": [
    {
      "metadata": {
        "id": "ab1_y1hNT17I",
        "colab_type": "code",
        "outputId": "6a429c80-8214-445c-9111-f9b59c0a2eda",
        "colab": {
          "base_uri": "https://localhost:8080/",
          "height": 122
        }
      },
      "cell_type": "code",
      "source": [
        "from google.colab import drive\n",
        "drive.mount('/content/drive')"
      ],
      "execution_count": 0,
      "outputs": [
        {
          "output_type": "stream",
          "text": [
            "Go to this URL in a browser: https://accounts.google.com/o/oauth2/auth?client_id=947318989803-6bn6qk8qdgf4n4g3pfee6491hc0brc4i.apps.googleusercontent.com&redirect_uri=urn%3Aietf%3Awg%3Aoauth%3A2.0%3Aoob&scope=email%20https%3A%2F%2Fwww.googleapis.com%2Fauth%2Fdocs.test%20https%3A%2F%2Fwww.googleapis.com%2Fauth%2Fdrive%20https%3A%2F%2Fwww.googleapis.com%2Fauth%2Fdrive.photos.readonly%20https%3A%2F%2Fwww.googleapis.com%2Fauth%2Fpeopleapi.readonly&response_type=code\n",
            "\n",
            "Enter your authorization code:\n",
            "··········\n",
            "Mounted at /content/drive\n"
          ],
          "name": "stdout"
        }
      ]
    },
    {
      "metadata": {
        "id": "XfbNLfW_vY5z",
        "colab_type": "code",
        "colab": {}
      },
      "cell_type": "code",
      "source": [
        "import os\n",
        "os.chdir(\"/content/drive/My Drive/Colab Notebooks\")\n",
        "Data_Dir = '/content/drive/My Drive/Colab Notebooks/images/synthetic_IslandDetection/'"
      ],
      "execution_count": 0,
      "outputs": []
    },
    {
      "metadata": {
        "id": "wfo9yYdJSEMM",
        "colab_type": "code",
        "colab": {}
      },
      "cell_type": "code",
      "source": [
        "import tensorflow as tf\n",
        "import numpy as np \n",
        "from keras import layers\n",
        "from keras.layers import Input, Add, Dense, Activation, ZeroPadding2D, BatchNormalization, Flatten, Conv2D, AveragePooling2D, MaxPooling2D, GlobalMaxPooling2D\n",
        "from keras.initializers import glorot_uniform\n",
        "\n",
        "import keras.backend as K\n",
        "K.set_image_data_format('channels_last')\n",
        "#K.set_learning_phase(1)\n",
        "\n",
        "from keras.models import Model, load_model\n",
        "from matplotlib import pyplot as plt\n",
        "#from PIL import Image\n",
        "#import matplotlib.image as mpimg\n",
        "\n",
        "import cv2\n",
        "from keras.preprocessing.image import ImageDataGenerator\n",
        "from keras import optimizers\n",
        "\n",
        "from pathlib import Path"
      ],
      "execution_count": 0,
      "outputs": []
    },
    {
      "metadata": {
        "id": "50WvosP0OFDK",
        "colab_type": "text"
      },
      "cell_type": "markdown",
      "source": [
        "# In this notebook\n",
        "- ResNet50 model is developed (with Keras/TensorFlow) and used to predict the existance of rectangular islands in a background image\n",
        "- The data set is synthetic "
      ]
    },
    {
      "metadata": {
        "id": "Rk3tG4lbL7dm",
        "colab_type": "text"
      },
      "cell_type": "markdown",
      "source": [
        "# Usefule references\n",
        "- [Convolutional Neural Networks] (https://en.wikipedia.org/wiki/Convolutional_neural_network)\n",
        "- [Batch Normalization: Accelerating Deep Network Training by Reducing Internal Covariate Shift] (https://arxiv.org/pdf/1502.03167.pdf)\n",
        "- [Rectified Linear Units] (https://en.wikipedia.org/wiki/Rectifier_(neural_networks))\n",
        "- [Deep Residual Learning for Image Recognition] (https://arxiv.org/pdf/1512.03385.pdf)\n",
        "- [Keras Documentation] (https://keras.io/)\n",
        "- [TensorFlow main page] (https://www.tensorflow.org/)"
      ]
    },
    {
      "metadata": {
        "id": "JKwrmS1NOi8i",
        "colab_type": "text"
      },
      "cell_type": "markdown",
      "source": [
        "# Data\n",
        "- Synthetic (generated in this notebook)\n",
        "  - First a background black square image is created. \n",
        "  - Then, rectangles of various shapes and sizes are patched on the square image to generate various samples. \n",
        "  - Some rectangles touch the boundary and some don't.\n",
        "    - The ones that do not touch the boundary are islands (i.e. class 1); otherwise, the class is 0\n",
        "    - About 30% of the cases are Islands. (Note: Another notebook looks at highly imbalanced classes for Island Detection)\n",
        "- There are 70756 sample images and associated labels"
      ]
    },
    {
      "metadata": {
        "id": "K2cMXwSeWbqo",
        "colab_type": "text"
      },
      "cell_type": "markdown",
      "source": [
        "# ResNet50 Implementation\n"
      ]
    },
    {
      "metadata": {
        "id": "jYhTq21Z8tQZ",
        "colab_type": "text"
      },
      "cell_type": "markdown",
      "source": [
        "## Identity Block "
      ]
    },
    {
      "metadata": {
        "id": "N-hLpFa1SLj8",
        "colab_type": "code",
        "colab": {}
      },
      "cell_type": "code",
      "source": [
        "def identity_block(InTensor, Kw, Nchn_out_lst, stage, block):\n",
        "  \n",
        "  '''\n",
        "  Identity block for ResNet50\n",
        "  \n",
        "  Inputs\n",
        "  ------\n",
        "  (1) InTensor     : Input tensor for each layer\n",
        "                   - Dimensions |  m       : Number of samples \n",
        "                                   Nrow    : Number of rows of the incoming 3d tensor\n",
        "                                   Ncol    : Number of columns  of the incoming 3d tensor\n",
        "                                   Nchn_in : Number of channels of the incoming 3d tensor\n",
        "  (2) Kw           : Width of kernel (kernel shape is Kw x Kw)\n",
        "  (3) Nchn_out_lst : List of 3 integers \n",
        "                   - There are 3 conv layers in each block. Each requires specifiying the number of filters (feature extractors) to be used. \n",
        "                   - Notes:\n",
        "                          - Each filter (feature extractor) will have to have the same number of channels (Nchn_in) as the incoming tensor  \n",
        "                          - Number of filters i.e. each integer in the list (Nch_out_list) becomes the Nchn_in for the next layer\n",
        "  (4) stage        : The stage at which each instance of identity_block is used \n",
        "  (5) block        : The block at which each instance of the identity_block is used. \n",
        "                   - Note: blocks are subsets of stages\n",
        "  Output\n",
        "  ------\n",
        "  tensor           : shape: (Nrow_out, Nclm_out, Nch_out)\n",
        "  '''\n",
        "  \n",
        "  # Defining name basis\n",
        "  conv_name_base = 'res' + str(stage) + block + '_branch'\n",
        "  bn_name_base = 'bn' + str(stage) + block + '_branch'\n",
        "  \n",
        "  \n",
        "  # First composite layer (Con--> BN --> Act) \n",
        "  X = Conv2D(filters = Nchn_out_lst[0], kernel_size = (1, 1), strides = (1,1), padding = 'valid', name = conv_name_base + '2a', kernel_initializer = glorot_uniform(seed=0))(InTensor)\n",
        "  X = BatchNormalization(axis = 3, name = bn_name_base + '2a')(X)\n",
        "  X = Activation('relu')(X)\n",
        "  \n",
        "  # Second composite layer (Con--> BN --> Act) \n",
        "  X = Conv2D(filters = Nchn_out_lst[1], kernel_size = (Kw, Kw), strides = (1,1), padding = 'same', name = conv_name_base + '2b', kernel_initializer = glorot_uniform(seed=0))(X)\n",
        "  X = BatchNormalization(axis = 3, name = bn_name_base + '2b')(X)\n",
        "  X = Activation('relu')(X)\n",
        "  \n",
        "  # Third composite layer (Con--> BN --> Act) \n",
        "  X = Conv2D(filters = Nchn_out_lst[2], kernel_size = (1, 1), strides = (1,1), padding = 'valid', name = conv_name_base + '2c', kernel_initializer = glorot_uniform(seed=0))(X)\n",
        "  X = BatchNormalization(axis = 3, name = bn_name_base + '2c')(X)\n",
        "\n",
        "  \n",
        "  # Add raw tensor to the processed tensor, and pass it through a RELU activation\n",
        "  X = Add()([X , InTensor])\n",
        "  X = Activation('relu')(X)\n",
        "  \n",
        "\n",
        "  return X"
      ],
      "execution_count": 0,
      "outputs": []
    },
    {
      "metadata": {
        "id": "-0SZRQ6o81qI",
        "colab_type": "text"
      },
      "cell_type": "markdown",
      "source": [
        "## Conv Block"
      ]
    },
    {
      "metadata": {
        "id": "BJ81ZTum804N",
        "colab_type": "code",
        "colab": {}
      },
      "cell_type": "code",
      "source": [
        "def conv_block(InTensor, Kw, Nchn_out_lst, stage, block, s=2):\n",
        "  '''\n",
        "  Identity block for ResNet50\n",
        "  \n",
        "  Inputs\n",
        "  ------\n",
        "  (1) InTensor     : Input tensor for each layer\n",
        "                   - Dimensions |  m       : Number of samples \n",
        "                                   Nrow_in : Number of rows of the incoming 3d tensor\n",
        "                                   Ncol_in : Number of columns  of the incoming 3d tensor\n",
        "                                   Nchn_in : Number of channels of the incoming 3d tensor\n",
        "  (2) Kw           : Width of kernel (kernel shape is Kw x Kw)\n",
        "  (3) Nchn_out_lst : List of 3 integers \n",
        "                   - There are 3 conv layers in each block. Each requires specifiying the number of filters (feature extractors) to be used. \n",
        "                     - Notes:\n",
        "                          - Each filter (feature extractor) will have to have the same number of channels (Nchn_in) as the incoming tensor  \n",
        "                          - Number of filters i.e. each integer in the list (Nch_out_list) becomes the Nchn_in for the next layer\n",
        "  (4) stage        : The stage at which each instance of identity_block is used \n",
        "  (5) block        : The block at which each instance of the identity_block is used. \n",
        "                     - Note: blocks are subsets of stages\n",
        "  (6) s            : stride used in the conv layer of the shortcut path \n",
        "  \n",
        "  Output\n",
        "  -----\n",
        "  tensor           : shape: (Nrow_out, Nclm_out, Nch_out)\n",
        "  '''\n",
        "  \n",
        "  # defining name basis\n",
        "  conv_name_base = 'res' + str(stage) + block + '_branch'\n",
        "  bn_name_base = 'bn' + str(stage) + block + '_branch'\n",
        "  \n",
        "  \n",
        "  # First composite layer (Con--> BN --> Act) \n",
        "  X = Conv2D(filters = Nchn_out_lst[0], kernel_size = (1, 1), strides = (s,s), padding = 'valid', name = conv_name_base + '2a', kernel_initializer = glorot_uniform(seed=0))(InTensor)\n",
        "  X = BatchNormalization(axis = 3, name = bn_name_base + '2a')(X)\n",
        "  X = Activation('relu')(X)\n",
        "  \n",
        "  # Second composite layer (Con--> BN --> Act) \n",
        "  X = Conv2D(filters = Nchn_out_lst[1], kernel_size = (Kw, Kw), strides = (1,1), padding = 'same', name = conv_name_base + '2b', kernel_initializer = glorot_uniform(seed=0))(X)\n",
        "  X = BatchNormalization(axis = 3, name = bn_name_base + '2b')(X)\n",
        "  X = Activation('relu')(X)\n",
        "  \n",
        "  # Third composite layer (Con--> BN --> Act) \n",
        "  X = Conv2D(filters = Nchn_out_lst[2], kernel_size = (1, 1), strides = (1,1), padding = 'valid', name = conv_name_base + '2c', kernel_initializer = glorot_uniform(seed=0))(X)\n",
        "  X = BatchNormalization(axis = 3, name = bn_name_base + '2c')(X)\n",
        "  \n",
        "  \n",
        "  # Short_cut path (Con--> BN) \n",
        "  X_shortcut = Conv2D(filters = Nchn_out_lst[2], kernel_size = (1, 1), strides = (s,s), padding = 'same', name = conv_name_base + '1', kernel_initializer = glorot_uniform(seed=0))(InTensor)\n",
        "  X_shortcut = BatchNormalization(axis = 3, name = bn_name_base + '1')(X_shortcut)\n",
        "  \n",
        "  # Final step: Add shortcut value to main path, and pass it through a RELU activation (≈2 lines)\n",
        "  X = Add()([X , X_shortcut])\n",
        "  X = Activation('relu')(X)\n",
        "  \n",
        "  return X\n",
        "  "
      ],
      "execution_count": 0,
      "outputs": []
    },
    {
      "metadata": {
        "id": "H6PGzpTaAIRY",
        "colab_type": "text"
      },
      "cell_type": "markdown",
      "source": [
        "## Build Resent50 from identity and conv blocks"
      ]
    },
    {
      "metadata": {
        "id": "WDi8xIlIAHfG",
        "colab_type": "code",
        "colab": {}
      },
      "cell_type": "code",
      "source": [
        "def ResNet50(input_shape = (20, 20, 1), classes = 2):\n",
        "  '''\n",
        "  Build ResNet50 from identity and conv blocks\n",
        "  \n",
        "  Inputs\n",
        "  ------\n",
        "  (1) input_shape : tuple containing the shape of the input with channels last\n",
        "  (2) classes     : number of classes \n",
        "  \n",
        "  Output\n",
        "  ------\n",
        "  model           : a  Model() instance in Keras\n",
        "  '''\n",
        "  \n",
        "  # Define the input tensor placeholder based on the input_shape\n",
        "  InTensor = Input(input_shape)\n",
        "  \n",
        "  # Initial layers of ResNet50 -----------------------\n",
        "     \n",
        "  # Zero-Padding\n",
        "  X = ZeroPadding2D((3, 3))(InTensor)\n",
        "\n",
        "  # Stage 1\n",
        "  X = Conv2D(64, (7, 7), strides = (1, 1), name = 'conv1', kernel_initializer = glorot_uniform(seed=0))(X)\n",
        "  X = BatchNormalization(axis = 3, name = 'bn_conv1')(X)\n",
        "  X = Activation('relu')(X)\n",
        "  X = MaxPooling2D((3, 3), strides=(2, 2))(X)\n",
        "  # --------------------------------------------------\n",
        "\n",
        "  # Stage 2\n",
        "  X = conv_block(X, Kw = 3, Nchn_out_lst = [64, 64, 256], stage = 2, block='a', s = 1)\n",
        "  X = identity_block(X, 3, [64, 64, 256], stage=2, block='b')\n",
        "  X = identity_block(X, 3, [64, 64, 256], stage=2, block='c')\n",
        "\n",
        "  # Stage 3 \n",
        "  X = conv_block(X, Kw=3, Nchn_out_lst = [128,128,512], stage = 3, block ='a', s = 2)\n",
        "  X = identity_block(X, 3, [128,128,512], stage=3, block='b')\n",
        "  X = identity_block(X, 3, [128,128,512], stage=3, block='c')\n",
        "  X = identity_block(X, 3, [128,128,512], stage=3, block='d')\n",
        "\n",
        "  # Stage 4\n",
        "  X = conv_block(X, Kw=3, Nchn_out_lst = [256, 256, 1024], stage = 4, block ='a', s = 2)\n",
        "  X = identity_block(X, 3, [256, 256, 1024], stage=4, block='b')\n",
        "  X = identity_block(X, 3, [256, 256, 1024], stage=4, block='c')\n",
        "  X = identity_block(X, 3, [256, 256, 1024], stage=4, block='d')\n",
        "  X = identity_block(X, 3, [256, 256, 1024], stage=4, block='e')\n",
        "  X = identity_block(X, 3, [256, 256, 1024], stage=4, block='f')\n",
        "\n",
        "\n",
        "  # Stage 5 \n",
        "  X = conv_block(X, Kw=3, Nchn_out_lst = [512, 512, 2048], stage = 5, block ='a', s = 2)\n",
        "  X = identity_block(X, 3, [512, 512, 2048], stage=5, block='b')\n",
        "  X = identity_block(X, 3, [512, 512, 2048], stage=5, block='c')\n",
        "\n",
        "  # AVGPOOL\n",
        "  X = AveragePooling2D(pool_size=(2,2))(X)\n",
        "\n",
        "\n",
        "\n",
        "  # output layer\n",
        "  X = Flatten()(X)\n",
        "  X = Dense(classes, activation='softmax', name='fc' + str(classes), kernel_initializer = glorot_uniform(seed=0))(X)\n",
        "\n",
        "\n",
        "  # Create model\n",
        "  model = Model(inputs = InTensor, outputs = X, name='ResNet50')\n",
        "\n",
        "  return model  "
      ],
      "execution_count": 0,
      "outputs": []
    },
    {
      "metadata": {
        "id": "JAxeQRlxiR71",
        "colab_type": "code",
        "colab": {}
      },
      "cell_type": "code",
      "source": [
        "#model = ResNet50(input_shape = (64, 64, 1), classes=2)\n",
        "#model.compile(optimizer='adam', loss='categorical_crossentropy', metrics=['accuracy'])"
      ],
      "execution_count": 0,
      "outputs": []
    },
    {
      "metadata": {
        "id": "UNu-fPiuJzqm",
        "colab_type": "text"
      },
      "cell_type": "markdown",
      "source": [
        "# Generate synthetic data"
      ]
    },
    {
      "metadata": {
        "id": "SW4njrGf8sXw",
        "colab_type": "code",
        "outputId": "53acf36b-72a6-4e64-a0dc-cbc57e353029",
        "colab": {
          "base_uri": "https://localhost:8080/",
          "height": 34
        }
      },
      "cell_type": "code",
      "source": [
        "h_a = np.arange(1,15)\n",
        "w_a = np.arange(1,15)\n",
        "xs_a  = np.arange(0,19)\n",
        "ys_a  = np.arange(0,19)\n",
        "\n",
        "\n",
        "Ns = len(h_a) * len(w_a) * len(xs_a) * len(ys_a)\n",
        "\n",
        "X  =  np.zeros((Ns,20,20,3))\n",
        "y  =  np.zeros((Ns,))\n",
        "idx = 0\n",
        "for xs in xs_a:\n",
        "    for ys in ys_a:\n",
        "        for w in w_a:\n",
        "            for h in h_a:\n",
        "                # Define the rectangular shape which may or may not be an island\n",
        "                X[idx, xs:xs+w+1 , ys:ys+h+1,0] = 1\n",
        "                X[idx, xs:xs+w+1 , ys:ys+h+1,1] = 1\n",
        "                X[idx, xs:xs+w+1 , ys:ys+h+1,2] = 1\n",
        "                \n",
        "                if xs>0 and (xs+w)<19 and ys>0 and (ys+h)<19:\n",
        "                    y[idx] = 1\n",
        "                #print(idx,\"|\", xs,xs+w , ys,ys+h, 'lablel:',y[idx])\n",
        "                idx +=1\n",
        "y = y.astype(int)\n",
        "\n",
        "\n",
        "#  Randomize the data\n",
        "np.random.seed(0)\n",
        "random_indices = np.random.permutation(len(X))\n",
        "X = X[random_indices]\n",
        "y = y[random_indices].astype(int)\n",
        "\n",
        "trn_frac = 0.85\n",
        "\n",
        "X_train, X_val, y_train, y_val = X[:int(trn_frac*len(X))],X[int(trn_frac*len(X)):] , y[:int(trn_frac*len(X))], y[int(trn_frac*len(X)):]\n",
        "\n",
        "print('Train:', X_train.shape, ' | ' , 'Val: ', X_val.shape)"
      ],
      "execution_count": 0,
      "outputs": [
        {
          "output_type": "stream",
          "text": [
            "Train: (60142, 20, 20, 3)  |  Val:  (10614, 20, 20, 3)\n"
          ],
          "name": "stdout"
        }
      ]
    },
    {
      "metadata": {
        "id": "4ek9XgFdFaz6",
        "colab_type": "text"
      },
      "cell_type": "markdown",
      "source": [
        "# Define a function to one-hot encode the labels"
      ]
    },
    {
      "metadata": {
        "id": "7tn586NiFzTZ",
        "colab_type": "code",
        "colab": {}
      },
      "cell_type": "code",
      "source": [
        "def OneHot(Vec, Nc):\n",
        "  return np.eye(Nc)[Vec.reshape(-1)]"
      ],
      "execution_count": 0,
      "outputs": []
    },
    {
      "metadata": {
        "id": "M2m3I9jfFyM-",
        "colab_type": "text"
      },
      "cell_type": "markdown",
      "source": [
        "# Convert the labels to one-hot encoded format"
      ]
    },
    {
      "metadata": {
        "id": "XK67CNq_F_SF",
        "colab_type": "code",
        "colab": {}
      },
      "cell_type": "code",
      "source": [
        "y_train_1hot, y_val_1hot = OneHot(y_train, 2), OneHot(y_val,2)"
      ],
      "execution_count": 0,
      "outputs": []
    },
    {
      "metadata": {
        "id": "by9LZ3DOQImA",
        "colab_type": "text"
      },
      "cell_type": "markdown",
      "source": [
        "# Class balances"
      ]
    },
    {
      "metadata": {
        "id": "cUiSyEgxQHv3",
        "colab_type": "code",
        "outputId": "521ca9b1-4804-4a9d-d736-48371ef6adf9",
        "colab": {
          "base_uri": "https://localhost:8080/",
          "height": 34
        }
      },
      "cell_type": "code",
      "source": [
        "print('train_minority_fraction:', round(sum(y_train)/len(y_train),2), '|'  , 'val_minority_fraction:' , round(sum(y_val)/len(y_val),2) )"
      ],
      "execution_count": 0,
      "outputs": [
        {
          "output_type": "stream",
          "text": [
            "train_minority_fraction: 0.3 | val_minority_fraction: 0.31\n"
          ],
          "name": "stdout"
        }
      ]
    },
    {
      "metadata": {
        "id": "taxn18YAxSHt",
        "colab_type": "text"
      },
      "cell_type": "markdown",
      "source": [
        "# Save the synthetic data as jpg images to file folders\n"
      ]
    },
    {
      "metadata": {
        "id": "V-Gz3bo6xRDH",
        "colab_type": "code",
        "outputId": "bd3507e2-7dd9-459b-d73a-6677cd6c7214",
        "colab": {
          "base_uri": "https://localhost:8080/",
          "height": 34
        }
      },
      "cell_type": "code",
      "source": [
        "os.chdir(Data_Dir)\n",
        "!ls\n",
        "'''\n",
        "!mkdir train\n",
        "!mkdir valid\n",
        "!mkdir test\n",
        "\n",
        "'''\n",
        "!ls\n",
        "\n",
        "trn_dir = f'{Data_Dir}train/' \n",
        "val_dir = f'{Data_Dir}valid/'\n",
        "tst_dir = f'{Data_Dir}test/'"
      ],
      "execution_count": 0,
      "outputs": [
        {
          "output_type": "stream",
          "text": [
            "test  train  valid\n"
          ],
          "name": "stdout"
        }
      ]
    },
    {
      "metadata": {
        "id": "Z1B4hVrsX8fm",
        "colab_type": "text"
      },
      "cell_type": "markdown",
      "source": [
        "# Generate subfolders for each class: 0 and 1 "
      ]
    },
    {
      "metadata": {
        "id": "VcHq20wuX-Nd",
        "colab_type": "code",
        "colab": {}
      },
      "cell_type": "code",
      "source": [
        "os.chdir(trn_dir)\n",
        "!mkdir Class0 Class1 \n",
        "\n",
        "os.chdir(val_dir)\n",
        "!mkdir Class0 Class1 \n"
      ],
      "execution_count": 0,
      "outputs": []
    },
    {
      "metadata": {
        "id": "DKCkewktEgH8",
        "colab_type": "text"
      },
      "cell_type": "markdown",
      "source": [
        "# Display a few samples "
      ]
    },
    {
      "metadata": {
        "id": "0PQULvajqTDW",
        "colab_type": "code",
        "outputId": "87b21470-0843-4b73-f285-30c6195289bb",
        "colab": {
          "base_uri": "https://localhost:8080/",
          "height": 935
        }
      },
      "cell_type": "code",
      "source": [
        "DATA   = X_train\n",
        "LABELS = y_train\n",
        "\n",
        "np.random.seed(117)\n",
        "samples = np.random.randint(low=0,high=len(DATA), size=30)\n",
        "samples\n",
        "\n",
        "plt.figure(figsize=(30,16))\n",
        "\n",
        "for ii in range(len(samples)):\n",
        "    plt.subplot(5,6,ii+1)\n",
        "    plt.imshow(DATA[samples[ii],:,:,0], cmap='gray')\n",
        "    plt.text(10,10,f'{LABELS[samples[ii]]}',color='red', fontsize=24)\n",
        "print('Any image with the white rectangle not touching the boundary has an island (class 1), otherwise class is 0')"
      ],
      "execution_count": 0,
      "outputs": [
        {
          "output_type": "stream",
          "text": [
            "Any image with the white rectangle not touching the boundary has an island (class 1), otherwise class is 0\n"
          ],
          "name": "stdout"
        },
        {
          "output_type": "display_data",
          "data": {
            "image/png": "[encoded data removed]",
            "text/plain": [
              "<Figure size 2160x1152 with 30 Axes>"
            ]
          },
          "metadata": {
            "tags": []
          }
        }
      ]
    },
    {
      "metadata": {
        "id": "elYzDxtLBSob",
        "colab_type": "text"
      },
      "cell_type": "markdown",
      "source": [
        "# Function to save the synthetically generated tesors to directories"
      ]
    },
    {
      "metadata": {
        "id": "9FRHb5-n6m4s",
        "colab_type": "code",
        "colab": {}
      },
      "cell_type": "code",
      "source": [
        "def saveTensorstoImages(Tensors, Labels, Dir):\n",
        "  '''\n",
        "  Saves the numpy arrays as images\n",
        "  Each label has its own folder to be used by ImageDataGenerator\n",
        "  '''\n",
        "  \n",
        "  idx0 = 0\n",
        "  idx1 = 0\n",
        "  for ii in range(Tensors.shape[0]):   \n",
        "    img  = Tensors[ii]*255\n",
        "    if Labels[ii] == 0: \n",
        "      cv2.imwrite(f'{Dir}Class0/{idx0}_C{Labels[ii]}.jpg',img)\n",
        "      idx0 += 1\n",
        "      \n",
        "      \n",
        "    if Labels[ii] == 1: \n",
        "      cv2.imwrite(f'{Dir}Class1/{idx1}_C{Labels[ii]}.jpg',img)\n",
        "      idx1 += 1\n",
        "  "
      ],
      "execution_count": 0,
      "outputs": []
    },
    {
      "metadata": {
        "id": "wwDtbaYRBlfy",
        "colab_type": "text"
      },
      "cell_type": "markdown",
      "source": [
        "# Save the data to separate trn/val/(tst) folders"
      ]
    },
    {
      "metadata": {
        "id": "esZFlgxmBhRA",
        "colab_type": "code",
        "outputId": "e2171eca-cd65-49ef-a44e-70beb7553dc7",
        "colab": {
          "base_uri": "https://localhost:8080/",
          "height": 51
        }
      },
      "cell_type": "code",
      "source": [
        "# Training Data\n",
        "print('Saving tensors to train folder ...')\n",
        "saveTensorstoImages(X_train, y_train, trn_dir)\n",
        "\n",
        "\n",
        "# Validation Data\n",
        "print('Saving tensors to validation folder ...')\n",
        "saveTensorstoImages(X_val, y_val, val_dir)"
      ],
      "execution_count": 0,
      "outputs": [
        {
          "output_type": "stream",
          "text": [
            "Saving tensors to train folder ...\n",
            "Saving tensors to validation folder ...\n"
          ],
          "name": "stdout"
        }
      ]
    },
    {
      "metadata": {
        "id": "GcnZh66aVHqN",
        "colab_type": "text"
      },
      "cell_type": "markdown",
      "source": [
        "# Use Resnet50 on recatangles in a square"
      ]
    },
    {
      "metadata": {
        "id": "Ll4NXotvMjj5",
        "colab_type": "text"
      },
      "cell_type": "markdown",
      "source": [
        "# Fit with ImageDataGenerator\n",
        "## Flow from directory"
      ]
    },
    {
      "metadata": {
        "id": "ub-oDyxRLvCS",
        "colab_type": "code",
        "outputId": "c5c92a9a-acb7-4262-9500-7a41a2a28267",
        "colab": {
          "base_uri": "https://localhost:8080/",
          "height": 119
        }
      },
      "cell_type": "code",
      "source": [
        "trn_datagen = ImageDataGenerator(rescale=1./255)\n",
        "val_datagen = ImageDataGenerator(rescale=1./255)\n",
        "\n",
        "\n",
        "trn_generator = trn_datagen.flow_from_directory(\n",
        "        trn_dir,\n",
        "        target_size=(20, 20),\n",
        "        batch_size=128,\n",
        "        class_mode = 'categorical')\n",
        "\n",
        "val_generator = val_datagen.flow_from_directory(\n",
        "        val_dir,\n",
        "        target_size=(20, 20),\n",
        "        batch_size=128,\n",
        "        class_mode = 'categorical')\n",
        "\n",
        "model = ResNet50(input_shape = (20, 20, 3), classes=2)\n",
        "model.compile(optimizer='adam', loss='categorical_crossentropy', metrics=['accuracy'])\n",
        "\n",
        "history = model.fit_generator(\n",
        "      trn_generator,\n",
        "      steps_per_epoch=900,\n",
        "      epochs=2,\n",
        "      validation_data = val_generator,\n",
        "      validation_steps= 50)\n"
      ],
      "execution_count": 0,
      "outputs": [
        {
          "output_type": "stream",
          "text": [
            "Found 60142 images belonging to 2 classes.\n",
            "Found 10614 images belonging to 2 classes.\n",
            "Epoch 1/2\n",
            "900/900 [==============================] - 911s 1s/step - loss: 0.0397 - acc: 0.9880 - val_loss: 4.8646e-06 - val_acc: 1.0000\n",
            "Epoch 2/2\n",
            "900/900 [==============================] - 886s 985ms/step - loss: 4.9733e-06 - acc: 1.0000 - val_loss: 8.4074e-07 - val_acc: 1.0000\n"
          ],
          "name": "stdout"
        }
      ]
    },
    {
      "metadata": {
        "id": "1JGSLUnyDIxF",
        "colab_type": "text"
      },
      "cell_type": "markdown",
      "source": [
        "# Generate predictions on the validation set for metrics extractions"
      ]
    },
    {
      "metadata": {
        "id": "I6pk5k1VMlhZ",
        "colab_type": "code",
        "outputId": "b5d1490d-7542-4a60-ebcf-4d5e6ddf9876",
        "colab": {
          "base_uri": "https://localhost:8080/",
          "height": 34
        }
      },
      "cell_type": "code",
      "source": [
        "val_generator = val_datagen.flow_from_directory(\n",
        "        val_dir,\n",
        "        target_size=(20, 20),\n",
        "        batch_size=256,\n",
        "        shuffle=False,\n",
        "        class_mode='categorical')\n",
        "\n",
        "predictions_probs , labels = model.predict_generator(val_generator, steps=40) , val_generator.classes\n",
        "predictions_cls            = np.argmax(predictions_probs , axis=1)"
      ],
      "execution_count": 0,
      "outputs": [
        {
          "output_type": "stream",
          "text": [
            "Found 10614 images belonging to 2 classes.\n"
          ],
          "name": "stdout"
        }
      ]
    },
    {
      "metadata": {
        "id": "kDAo-63LD6kW",
        "colab_type": "text"
      },
      "cell_type": "markdown",
      "source": [
        "# Calculate the confusion matrix"
      ]
    },
    {
      "metadata": {
        "id": "Z2miLWWRtDfu",
        "colab_type": "code",
        "outputId": "ab3b6cfd-254d-4427-aed5-cc2baefa7bc2",
        "colab": {
          "base_uri": "https://localhost:8080/",
          "height": 34
        }
      },
      "cell_type": "code",
      "source": [
        "TN, FP, FN, TP = K.eval(tf.confusion_matrix(labels[:10000] , predictions_cls[:10000] , num_classes =2)).ravel()\n",
        "TN, FP, FN, TP "
      ],
      "execution_count": 0,
      "outputs": [
        {
          "output_type": "execute_result",
          "data": {
            "text/plain": [
              "(7339, 0, 0, 2661)"
            ]
          },
          "metadata": {
            "tags": []
          },
          "execution_count": 154
        }
      ]
    },
    {
      "metadata": {
        "id": "JCq57ZGBErpC",
        "colab_type": "text"
      },
      "cell_type": "markdown",
      "source": [
        "# Precision, Recall, F1\n",
        "## These results are for a minority class of 30%. As another notebook shows, highly imbalanced classes require other techniques to increase F1\n"
      ]
    },
    {
      "metadata": {
        "id": "6JIKAaYNEvXF",
        "colab_type": "code",
        "outputId": "9d99f851-8410-4bd7-c6d5-6cec213c1af1",
        "colab": {
          "base_uri": "https://localhost:8080/",
          "height": 34
        }
      },
      "cell_type": "code",
      "source": [
        "PRC, RCL = np.round(TP/(TP+FP),2) ,  np.round(TP/(TP+FN), 2) \n",
        "F1       = np.round(2*(PRC*RCL)/(PRC+RCL),2)\n",
        "print('Precision:', PRC, ' |' , 'Recall:',  RCL, ' |', 'F1: ', F1)"
      ],
      "execution_count": 0,
      "outputs": [
        {
          "output_type": "stream",
          "text": [
            "Precision: 1.0  | Recall: 1.0  | F1:  1.0\n"
          ],
          "name": "stdout"
        }
      ]
    },
    {
      "metadata": {
        "id": "zDtH8yFILZpl",
        "colab_type": "text"
      },
      "cell_type": "markdown",
      "source": [
        "### Side note\n",
        "- #####  x_train = np.vstack(df[dsv_column].values[0:m]).reshape((m, image_width, image_width, n_channels))"
      ]
    },
    {
      "metadata": {
        "id": "mVg1JAauLbUh",
        "colab_type": "code",
        "colab": {}
      },
      "cell_type": "code",
      "source": [
        ""
      ],
      "execution_count": 0,
      "outputs": []
    }
  ]
}